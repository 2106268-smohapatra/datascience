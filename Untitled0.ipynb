{
  "nbformat": 4,
  "nbformat_minor": 0,
  "metadata": {
    "colab": {
      "provenance": []
    },
    "kernelspec": {
      "name": "python3",
      "display_name": "Python 3"
    },
    "language_info": {
      "name": "python"
    }
  },
  "cells": [
    {
      "cell_type": "code",
      "execution_count": 1,
      "metadata": {
        "id": "XQ83nHoUL9XP"
      },
      "outputs": [],
      "source": [
        "# Data Science Project Notebook\n"
      ]
    },
    {
      "cell_type": "markdown",
      "source": [
        "## Introduction\n",
        "This notebook provides an overview of key topics in data science, including data science languages, libraries, and tools. It also includes arithmetic expressions and demonstrates simple code for computations.\n"
      ],
      "metadata": {
        "id": "5yzS8PnUMPZD"
      }
    },
    {
      "cell_type": "markdown",
      "source": [
        "## Data Science Languages\n",
        "- Python\n",
        "- R\n",
        "- SQL\n",
        "- Julia\n",
        "- Scala\n"
      ],
      "metadata": {
        "id": "NnuxsttSMaPI"
      }
    },
    {
      "cell_type": "markdown",
      "source": [
        "## Data Science Libraries\n",
        "- NumPy\n",
        "- Pandas\n",
        "- Matplotlib\n",
        "- Scikit-learn\n",
        "- TensorFlow\n",
        "- PyTorch\n"
      ],
      "metadata": {
        "id": "7EPqJByUMdGu"
      }
    },
    {
      "cell_type": "markdown",
      "source": [
        "## Data Science Tools\n",
        "\n",
        "| Tool           | Description                   |\n",
        "|----------------|-------------------------------|\n",
        "| Jupyter Notebooks | Interactive coding environment |\n",
        "| RStudio        | Integrated development environment for R |\n",
        "| Apache Hadoop  | Distributed data processing tool |\n",
        "| TensorFlow     | Machine learning framework |\n",
        "| GitHub         | Version control and code sharing platform |\n"
      ],
      "metadata": {
        "id": "ceUOQLuFMhfd"
      }
    },
    {
      "cell_type": "markdown",
      "source": [
        "## Arithmetic Expressions\n",
        "In this section, we will explore some basic arithmetic expressions like multiplication and addition.\n"
      ],
      "metadata": {
        "id": "nxJ4oPvOMmQJ"
      }
    },
    {
      "cell_type": "markdown",
      "source": [
        "# Multiplication and addition\n",
        "result_multiply = 5 * 6\n",
        "result_add = 5 + 6\n",
        "\n",
        "result_multiply, result_add\n"
      ],
      "metadata": {
        "id": "VCU24K2qMp__"
      }
    },
    {
      "cell_type": "markdown",
      "source": [
        "# Convert minutes to hours\n",
        "minutes = 150\n",
        "hours = minutes / 60\n",
        "hours\n"
      ],
      "metadata": {
        "id": "IAccu4l-Mt8l"
      }
    },
    {
      "cell_type": "markdown",
      "source": [
        "## Objectives\n",
        "- List popular data science languages\n",
        "- List key data science libraries\n",
        "- Demonstrate basic arithmetic operations\n",
        "- Convert units from minutes to hours\n"
      ],
      "metadata": {
        "id": "TKBK18d8MyBB"
      }
    },
    {
      "cell_type": "markdown",
      "source": [
        "## Author\n",
        "[Subranshu Mohapatra]\n"
      ],
      "metadata": {
        "id": "o6OIzabeNBcj"
      }
    },
    {
      "cell_type": "markdown",
      "source": [],
      "metadata": {
        "id": "dzVr47uZNKOz"
      }
    }
  ]
}